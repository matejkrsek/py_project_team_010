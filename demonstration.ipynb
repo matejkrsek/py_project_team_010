{
 "cells": [
  {
   "cell_type": "markdown",
   "id": "400abe5e",
   "metadata": {},
   "source": [
    "# 🔐 Substituční šifra – Aplikační demonstrace"
   ]
  },
  {
   "cell_type": "markdown",
   "id": "d743d2ce",
   "metadata": {},
   "source": [
    "## 1. Šifrování"
   ]
  },
  {
   "cell_type": "code",
   "execution_count": null,
   "id": "33c89a3d",
   "metadata": {},
   "outputs": [
    {
     "name": "stdout",
     "output_type": "stream",
     "text": [
      "Plaintext: AKOVY_ZLY_PROFESOR_SLAVNY_UCENEC_VY_UCENCI_JSTE_VSICHNI_DIVNI_DAL_MI_UKOL_A_DIVAL_SE_NA_HODINKY_ZA_HODINU_TO_MUSELO_BYT_VYPOCITANO_A_KDYZ_UZ_MNE_ZBYVALO_JENOM_PET_MINUT_CTYRI_MINUTY_TRI_MINUTY_A_JA_NEMELA_JESTE_NIC_TU_MI_ZABOUCHALO_SRDCE_A_JA_MELA_TAKOVY_STRASNY_POCIT__ZATALA_PRSTY_DO_PROKOPOVY_PAZE_A_ZASYKLA_PAK_UZ_JSEM_SE_NA_TY_HODINY_I_TESILA_V_DEVATENACTI_MNE_ZASNOUBILI_TO_ANI_NEVIS_VID_A_PROTOZE_JSEM_UZ_VEDELA_VSECHNO_MUSEL_MNE_MUJ_ZENICH_PRISAHAT_ZE_SE_MNE_NIKDY_NEDOTKNE_ZA_DVE_LETA_PADL_V_AFRICE_VYVADELA_JSEM__Z_ROMANTIKY_NEBO_PROC__TAK_ZE_MNE_PAK_UZ_NIKDY_NENUTILI_VDAT_SE_MYSLELA_JSEM_ZE_TIM_MAM_VSECKO_ODBYTO_A_VIDIS_TEHDY_JSEM_SE_DO_TOHO_VLASTNE_JEN_NUTILA_NUTILA_JSEM_SE_VERIT_ZE_JSEM_MU_ZUSTALA_NECO_DLUZNA_A_ZE_MU_I_PO_SMRTI_MUSIM_STAT_V_SLOVE_AZ_SE_MI_NAKONEC_Z_TOHO_VSEHO_ZDALO_ZE_JSEM_HO_MILOVALA_TED_VIDIM_ZE_JSEM_TO_VSECHNO_JEN_HRALA_SAMA_PRED_SEBOU_A_ZE_JSEM_NECITILA_NIC_VIC_NIC_VIC_NEZ_HLOUPE_ZKLAMANI_VID_JE_TO_DIVNE_ZE_TI_MUSIM_O_SOBE_RIKAT_TAKOVE_VECI_VIS_TO_JE_TAK_PRI\n",
      "Ciphertext: TMDVLPBHLPUXD_YQDXPQHTVELPKWYEYWPVLPKWYEWAPRQFYPVQAWJEAPGAVEAPGTHPOAPKMDHPTPGAVTHPQYPETPJDGAEMLPBTPJDGAEKPFDPOKQYHDPCLFPVLUDWAFTEDPTPMGLBPKBPOEYPBCLVTHDPRYEDOPUYFPOAEKFPWFLXAPOAEKFLPFXAPOAEKFLPTPRTPEYOYHTPRYQFYPEAWPFKPOAPBTCDKWJTHDPQXGWYPTPRTPOYHTPFTMDVLPQFXTQELPUDWAFPPBTFTHTPUXQFLPGDPUXDMDUDVLPUTBYPTPBTQLMHTPUTMPKBPRQYOPQYPETPFLPJDGAELPAPFYQAHTPVPGYVTFYETWFAPOEYPBTQEDKCAHAPFDPTEAPEYVAQPVAGPTPUXDFDBYPRQYOPKBPVYGYHTPVQYWJEDPOKQYHPOEYPOKRPBYEAWJPUXAQTJTFPBYPQYPOEYPEAMGLPEYGDFMEYPBTPGVYPHYFTPUTGHPVPT_XAWYPVLVTGYHTPRQYOPPBPXDOTEFAMLPEYCDPUXDWPPFTMPBYPOEYPUTMPKBPEAMGLPEYEKFAHAPVGTFPQYPOLQHYHTPRQYOPBYPFAOPOTOPVQYWMDPDGCLFDPTPVAGAQPFYJGLPRQYOPQYPGDPFDJDPVHTQFEYPRYEPEKFAHTPEKFAHTPRQYOPQYPVYXAFPBYPRQYOPOKPBKQFTHTPEYWDPGHKBETPTPBYPOKPAPUDPQOXFAPOKQAOPQFTFPVPQHDVYPTBPQYPOAPETMDEYWPBPFDJDPVQYJDPBGTHDPBYPRQYOPJDPOAHDVTHTPFYGPVAGAOPBYPRQYOPFDPVQYWJEDPRYEPJXTHTPQTOTPUXYGPQYCDKPTPBYPRQYOPEYWAFAHTPEAWPVAWPEAWPVAWPEYBPJHDKUYPBMHTOTEAPVAGPRYPFDPGAVEYPBYPFAPOKQAOPDPQDCYPXAMTFPFTMDVYPVYWAPVAQPFDPRYPFTMPUXA\n",
      "Key: TCWGY_ZJARMHOEDUNXQFKVISLBP\n"
     ]
    }
   ],
   "source": [
    "from main_crypt import encrypt_text, alphabet\n",
    "import random\n",
    "\n",
    "# Ukázkový plaintext\n",
    "plaintext = \"_VOZEM_DO_NEHO_A_ZAS_MNE_BEZI_DO_CESTY__ZACHVELA_SE_TAK_KUDY_VPRAVO_NEBO_VLEVO_TEDY_JE_KONEC_PTAL_SE_TISE_POKYVLA_HLAVOU_TEDY_JE_KONEC_OTEVREL_DVIRKA_VYSKOCIL_Z_VOZU_A_POSTAVIL_SE_PRED_KOLA_JED_REKL_CHRAPTIVE_POJEDES_PRESE_MNE_UJELA_S_VOZEM_DVA_KROKY_ZPET_POJD_MUSIME_DAL_DOVEZU_TE_ASPON_BLIZ_K_HRANICIM_KAM_CHCES_ZPATKY_SKRIPEL_ZUBY_ZPATKY_S_TEBOU_SE_MNOU_NENI_ANI_DOPREDU_ANI_ZPATKY_COPAK_MI_NEROZUMIS_MUSIM_TO_UDELAT_ABYS_VIDEL_ABY_BYLO_JISTO_ZE_JSEM_TE_MELA_RADA_MYSLIS_ZE_BYCH_MOHLA_JESTE_JEDNOU_SLYSET_COS_MI_REKL_ZPATKY_NEMUZES_BUD_BYS_MUSEL_VYDAT_TO_CO_NECHCES_A_NESMIS_NEBO_BY_TE_ODVEZLI_A_JA__SPUSTILA_RUCE_DO_KLINA_VIDIS_I_NA_TO_JSEM_MYSLELA_ZE_BYCH_SLA_S_TEBOU_DOPREDU_DOVEDLA_BYCH_TO_DOVEDLA_BYCH_TO_JISTE_ALE__TY_JSI_TAM_NEKDE_ZASNOUBEN_JDI_K_NI_HLED_NIKDY_ME_NENAPADLO_PTAT_SE_TE_NA_TO_KDYZ_JE_CLOVEK_PRINCEZNA_MYSLI_SI_ZE_JE_NA_SVETE_SAM_MAS_JI_RAD_POHLEDL_NA_NI_UTRYZNENYMA_OCIMA_PRECE_JEN_NEDOVEDL_ZAPRIT__TAK_VIDIS_VYDECHLA_TY_NEUMIS_ANI_LHAT_TY_MILY_ALE_POCHOP_KDYZ_JSEM_SI_TO_PAK\"\n",
    "# Generování náhodného klíče (permutace abecedy)\n",
    "key = alphabet.copy()\n",
    "random.shuffle(key)\n",
    "\n",
    "# Šifrování\n",
    "ciphertext = encrypt_text(plaintext, key)\n",
    "print(\"Plaintext:\", plaintext)\n",
    "print(\"Ciphertext:\", ciphertext)\n",
    "print(\"Key:\", \"\".join(key))"
   ]
  },
  {
   "cell_type": "markdown",
   "id": "ae5d106d",
   "metadata": {},
   "source": [
    "## 2. Vytvoření bigramové atrigramové matice + seznamu slov z Krakatitu"
   ]
  },
  {
   "cell_type": "code",
   "execution_count": null,
   "id": "464a8258",
   "metadata": {},
   "outputs": [
    {
     "name": "stdout",
     "output_type": "stream",
     "text": [
      "Nejčastější bigramy:\n",
      "E_: 14888\n",
      "A_: 11837\n",
      "_P: 8935\n",
      "_S: 8445\n",
      "I_: 7812\n",
      "O_: 7702\n",
      "_N: 7238\n",
      "NE: 7039\n",
      "_T: 6090\n",
      "L_: 5782\n",
      "\n",
      "Nejčastější trigramy:\n",
      "_PR: 4044\n",
      "_A_: 3615\n",
      "_NE: 3567\n",
      "_SE: 3355\n",
      "SE_: 3048\n",
      "_PO: 2730\n",
      "NE_: 2451\n",
      "NA_: 2438\n",
      "_NA: 2433\n",
      "_JE: 2167\n",
      "\n",
      "Náhodná slova z referenčního slovníku:\n",
      "HROZE, ZIVE, VZLYKA, KRICET, ZNA, MAMLI, ZESMUTNEL, VELICENSKEHO, OBLACKY, DOTYKALY\n"
     ]
    }
   ],
   "source": [
    "from collections import defaultdict\n",
    "import random\n",
    "\n",
    "from main_crypt import get_bigrams, get_trigrams\n",
    "\n",
    "# Načtení textu\n",
    "with open(\"krakatit.txt\", \"r\", encoding=\"utf-8\") as file:\n",
    "    ref_text = file.read()\n",
    "\n",
    "# Použití importovaných funkcí na tvorbu bigramů a trigramů\n",
    "ref_bigrams = get_bigrams(ref_text)\n",
    "ref_trigrams = get_trigrams(ref_text)\n",
    "\n",
    "\n",
    "# Vytvoření ref_words pomocí základní logiky\n",
    "ref_words = defaultdict(set)\n",
    "for word in ref_text.split(\"_\"):\n",
    "    if len(word) > 2:\n",
    "        ref_words[word[:2]].add(word)\n",
    "\n",
    "# Ukázka 10 nejčastějších bigramů\n",
    "top_bigrams = sorted(ref_bigrams.items(), key=lambda x: -x[1])[:10]\n",
    "print(\"Nejčastější bigramy:\")\n",
    "for bg, count in top_bigrams:\n",
    "    print(f\"{bg}: {count}\")\n",
    "\n",
    "# Ukázka 10 nejčastějších trigramů\n",
    "top_trigrams = sorted(ref_trigrams.items(), key=lambda x: -x[1])[:10]\n",
    "print(\"\\nNejčastější trigramy:\")\n",
    "for tg, count in top_trigrams:\n",
    "    print(f\"{tg}: {count}\")\n",
    "\n",
    "# Ukázka 10 náhodných slov ze seznamu ref_words\n",
    "some_words = random.sample(\n",
    "    [word for word_set in ref_words.values() for word in word_set], 10\n",
    ")\n",
    "print(\"\\nNáhodná slova z referenčního slovníku:\")\n",
    "print(\", \".join(some_words))"
   ]
  },
  {
   "cell_type": "markdown",
   "id": "8e449bde",
   "metadata": {},
   "source": [
    "## 3. Kryptoanalýza: Prolomení šifry"
   ]
  },
  {
   "cell_type": "code",
   "execution_count": 17,
   "id": "c54b16db",
   "metadata": {},
   "outputs": [
    {
     "name": "stdout",
     "output_type": "stream",
     "text": [
      "Iter: 2000\n",
      "Plausibility: 36.37\n",
      "----------------\n",
      "Iter: 4000\n",
      "Plausibility: 58.71\n",
      "----------------\n",
      "Iter: 6000\n",
      "Plausibility: 34.27\n",
      "----------------\n",
      "Iter: 8000\n",
      "Plausibility: 18.75\n",
      "----------------\n",
      "Iter: 10000\n",
      "Plausibility: 49.45\n",
      "----------------\n",
      "Iter: 12000\n",
      "Plausibility: 244.16\n",
      "----------------\n",
      "Iter: 14000\n",
      "Plausibility: 7.37\n",
      "----------------\n",
      "📚 V dešivrovaném textu bylo rozpoznáno: 135/203 (66.50%) českých slov\n",
      "Nejlepší nalezený klíč: TCWGY_NJARMHOEDUZXQFKVSILBP\n",
      "\n",
      "🔓 Dešifrovaný text:\n",
      "AKOVY_ZLY_PROFESOR_SLAVNY_UCENEC_VY_UCENCI_JSTE_VSICHNI_DIVNI_DAL_MI_UKOL_A_DIVAL_SE_NA_HODINKY_ZA_HODINU_TO_MUSELO_BYT_VYPOCITANO_A_KDYZ_UZ_MNE_ZBYVALO_JENOM_PET_MINUT_CTYRI_MINUTY_TRI_MINUTY_A_JA_NEMELA_JESTE_NIC_TU_MI_ZABOUCHALO_SRDCE_A_JA_MELA_TAKOVY_STRASNY_POCIT__ZATALA_PRSTY_DO_PROKOPOVY_PAZE_A_ZASYKLA_PAK_UZ_JSEM_SE_NA_TY_HODINY_I_TESILA_V_DEVATENACTI_MNE_ZASNOUBILI_TO_ANI_NEVIS_VID_A_PROTOZE_JSEM_UZ_VEDELA_VSECHNO_MUSEL_MNE_MUJ_ZENICH_PRISAHAT_ZE_SE_MNE_NIKDY_NEDOTKNE_ZA_DVE_LETA_PADL_V_AFRICE_VYVADELA_JSEM__Z_ROMANTIKY_NEBO_PROC__TAK_ZE_MNE_PAK_UZ_NIKDY_NENUTILI_VDAT_SE_MYSLELA_JSEM_ZE_TIM_MAM_VSECKO_ODBYTO_A_VIDIS_TEHDY_JSEM_SE_DO_TOHO_VLASTNE_JEN_NUTILA_NUTILA_JSEM_SE_VERIT_ZE_JSEM_MU_ZUSTALA_NECO_DLUZNA_A_ZE_MU_I_PO_SMRTI_MUSIM_STAT_V_SLOVE_AZ_SE_MI_NAKONEC_Z_TOHO_VSEHO_ZDALO_ZE_JSEM_HO_MILOVALA_TED_VIDIM_ZE_JSEM_TO_VSECHNO_JEN_HRALA_SAMA_PRED_SEBOU_A_ZE_JSEM_NECITILA_NIC_VIC_NIC_VIC_NEZ_HLOUPE_ZKLAMANI_VID_JE_TO_DIVNE_ZE_TI_MUSIM_O_SOBE_RIKAT_TAKOVE_VECI_VIS_TO_JE_TAK_PRI\n",
      "\n",
      "Pro ověření původní text, než byl zašifrován náhodným klíčem:\n",
      "AKOVY_ZLY_PROFESOR_SLAVNY_UCENEC_VY_UCENCI_JSTE_VSICHNI_DIVNI_DAL_MI_UKOL_A_DIVAL_SE_NA_HODINKY_ZA_HODINU_TO_MUSELO_BYT_VYPOCITANO_A_KDYZ_UZ_MNE_ZBYVALO_JENOM_PET_MINUT_CTYRI_MINUTY_TRI_MINUTY_A_JA_NEMELA_JESTE_NIC_TU_MI_ZABOUCHALO_SRDCE_A_JA_MELA_TAKOVY_STRASNY_POCIT__ZATALA_PRSTY_DO_PROKOPOVY_PAZE_A_ZASYKLA_PAK_UZ_JSEM_SE_NA_TY_HODINY_I_TESILA_V_DEVATENACTI_MNE_ZASNOUBILI_TO_ANI_NEVIS_VID_A_PROTOZE_JSEM_UZ_VEDELA_VSECHNO_MUSEL_MNE_MUJ_ZENICH_PRISAHAT_ZE_SE_MNE_NIKDY_NEDOTKNE_ZA_DVE_LETA_PADL_V_AFRICE_VYVADELA_JSEM__Z_ROMANTIKY_NEBO_PROC__TAK_ZE_MNE_PAK_UZ_NIKDY_NENUTILI_VDAT_SE_MYSLELA_JSEM_ZE_TIM_MAM_VSECKO_ODBYTO_A_VIDIS_TEHDY_JSEM_SE_DO_TOHO_VLASTNE_JEN_NUTILA_NUTILA_JSEM_SE_VERIT_ZE_JSEM_MU_ZUSTALA_NECO_DLUZNA_A_ZE_MU_I_PO_SMRTI_MUSIM_STAT_V_SLOVE_AZ_SE_MI_NAKONEC_Z_TOHO_VSEHO_ZDALO_ZE_JSEM_HO_MILOVALA_TED_VIDIM_ZE_JSEM_TO_VSECHNO_JEN_HRALA_SAMA_PRED_SEBOU_A_ZE_JSEM_NECITILA_NIC_VIC_NIC_VIC_NEZ_HLOUPE_ZKLAMANI_VID_JE_TO_DIVNE_ZE_TI_MUSIM_O_SOBE_RIKAT_TAKOVE_VECI_VIS_TO_JE_TAK_PRI\n",
      "\n",
      "🔓 Nejlepší nalezený klíč k dešifrování:\n",
      "TCWGY_NJARMHOEDUZXQFKVSILBP\n",
      "\n",
      "Pro ověření původní klíč, jimž byl text zašifrován:\n",
      "TCWGY_ZJARMHOEDUNXQFKVISLBP\n",
      "\n",
      "\n",
      "Nejlepší nalezený klíč se tedy od správného klíče liší o 4 znaků.\n",
      "Klíče se liší na pozicích písmen: \n",
      "Pozice 6 (G): správně 'Z', nalezeno 'N'\n",
      "Pozice 16 (Q): správně 'N', nalezeno 'Z'\n",
      "Pozice 22 (W): správně 'I', nalezeno 'S'\n",
      "Pozice 23 (X): správně 'S', nalezeno 'I'\n"
     ]
    }
   ],
   "source": [
    "from main_crypt import prolom_substitute\n",
    "\n",
    "# zašifrovaný text, viz bod č. 1 výše\n",
    "cipher = ciphertext \n",
    "\n",
    "# Prolomení šifry\n",
    "result = prolom_substitute(cipher, 15000, word_val=\"on\") #word_val nastavit na \"on\" či \"off\" podle toho, zda chceme při prolamování šifry využít referenčního slovníku\n",
    "\n",
    "# TO DO - tuto část implementovat přímo do funkce prolom_substitute? Případně až poté, co bude hotová vizualizace...\n",
    "# Výpis výsledků\n",
    "print(\"\\n🔓 Dešifrovaný text:\")\n",
    "print(result[0])\n",
    "print(\"\\nPro ověření původní text, než byl zašifrován náhodným klíčem:\")\n",
    "print(plaintext)\n",
    "print(\"\\n🔓 Nejlepší nalezený klíč k dešifrování:\")\n",
    "print(\"\".join(result[1]))\n",
    "print(\"\\nPro ověření původní klíč, jimž byl text zašifrován:\")\n",
    "print(\"\".join(key))\n",
    "print(\"\\n\")\n",
    "# Výpočet rozdílu mezi nejlepšími nalezenými klíči\n",
    "# Výpočet rozdílu mezi nejlepšími nalezenými klíči\n",
    "differences = sum(1 for a, b in zip(result[1], key) if a != b)\n",
    "print(\"Nejlepší nalezený klíč se tedy od správného klíče liší o \" + str(differences) + \" znaků.\")\n",
    "print(\"Klíče se liší na pozicích písmen: \")\n",
    "\n",
    "for i, (a, b) in enumerate(zip(result[1], key)):\n",
    "    if a != b:\n",
    "        print(f\"Pozice {i} ({alphabet[i]}): správně '{b}', nalezeno '{a}'\")\n",
    "\n",
    "\n"
   ]
  },
  {
   "cell_type": "markdown",
   "id": "7ca89bd1",
   "metadata": {},
   "source": [
    "## 4. Závěr a zhodnocení"
   ]
  },
  {
   "cell_type": "markdown",
   "id": "7ff26499",
   "metadata": {},
   "source": [
    "- V notebooku jsme ukázali proces šifrování a dešifrování substituční šifry.\n",
    "- Z knihy Krakatit jsme získali referenční bigramovou matici.\n",
    "- Pomocí algoritmu Metropolis-Hastings jsme úspěšně prolomili šifru a ověřili kvalitu dešifrovaného textu.\n",
    "- Výsledek je doplněn skóre pravděpodobnosti češtiny a procentem rozpoznaných slov."
   ]
  }
 ],
 "metadata": {
  "kernelspec": {
   "display_name": "base",
   "language": "python",
   "name": "python3"
  },
  "language_info": {
   "codemirror_mode": {
    "name": "ipython",
    "version": 3
   },
   "file_extension": ".py",
   "mimetype": "text/x-python",
   "name": "python",
   "nbconvert_exporter": "python",
   "pygments_lexer": "ipython3",
   "version": "3.12.7"
  }
 },
 "nbformat": 4,
 "nbformat_minor": 5
}
