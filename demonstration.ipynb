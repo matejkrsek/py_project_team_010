{
 "cells": [
  {
   "cell_type": "markdown",
   "id": "400abe5e",
   "metadata": {},
   "source": [
    "# 🔐 Substituční šifra – Aplikační demonstrace"
   ]
  },
  {
   "cell_type": "markdown",
   "id": "d743d2ce",
   "metadata": {},
   "source": [
    "## 1. Šifrování"
   ]
  },
  {
   "cell_type": "code",
   "execution_count": 38,
   "id": "33c89a3d",
   "metadata": {},
   "outputs": [
    {
     "name": "stdout",
     "output_type": "stream",
     "text": [
      "Plaintext: AKOVY_ZLY_PROFESOR_SLAVNY_UCENEC_VY_UCENCI_JSTE_VSICHNI_DIVNI_DAL_MI_UKOL_A_DIVAL_SE_NA_HODINKY_ZA_HODINU_TO_MUSELO_BYT_VYPOCITANO_A_KDYZ_UZ_MNE_ZBYVALO_JENOM_PET_MINUT_CTYRI_MINUTY_TRI_MINUTY_A_JA_NEMELA_JESTE_NIC_TU_MI_ZABOUCHALO_SRDCE_A_JA_MELA_TAKOVY_STRASNY_POCIT__ZATALA_PRSTY_DO_PROKOPOVY_PAZE_A_ZASYKLA_PAK_UZ_JSEM_SE_NA_TY_HODINY_I_TESILA_V_DEVATENACTI_MNE_ZASNOUBILI_TO_ANI_NEVIS_VID_A_PROTOZE_JSEM_UZ_VEDELA_VSECHNO_MUSEL_MNE_MUJ_ZENICH_PRISAHAT_ZE_SE_MNE_NIKDY_NEDOTKNE_ZA_DVE_LETA_PADL_V_AFRICE_VYVADELA_JSEM__Z_ROMANTIKY_NEBO_PROC__TAK_ZE_MNE_PAK_UZ_NIKDY_NENUTILI_VDAT_SE_MYSLELA_JSEM_ZE_TIM_MAM_VSECKO_ODBYTO_A_VIDIS_TEHDY_JSEM_SE_DO_TOHO_VLASTNE_JEN_NUTILA_NUTILA_JSEM_SE_VERIT_ZE_JSEM_MU_ZUSTALA_NECO_DLUZNA_A_ZE_MU_I_PO_SMRTI_MUSIM_STAT_V_SLOVE_AZ_SE_MI_NAKONEC_Z_TOHO_VSEHO_ZDALO_ZE_JSEM_HO_MILOVALA_TED_VIDIM_ZE_JSEM_TO_VSECHNO_JEN_HRALA_SAMA_PRED_SEBOU_A_ZE_JSEM_NECITILA_NIC_VIC_NIC_VIC_NEZ_HLOUPE_ZKLAMANI_VID_JE_TO_DIVNE_ZE_TI_MUSIM_O_SOBE_RIKAT_TAKOVE_VECI_VIS_TO_JE_TAK_PRI\n",
      "Ciphertext: _QCMLFNELFVGCSADCGFDE_MHLFPBAHABFMLFPBAHBKFYDRAFMDKBOHKFJKMHKFJ_EFTKFPQCEF_FJKM_EFDAFH_FOCJKHQLFN_FOCJKHPFRCFTPDAECFWLRFMLVCBKR_HCF_FQJLNFPNFTHAFNWLM_ECFYAHCTFVARFTKHPRFBRLGKFTKHPRLFRGKFTKHPRLF_FY_FHATAE_FYADRAFHKBFRPFTKFN_WCPBO_ECFDGJBAF_FY_FTAE_FR_QCMLFDRG_DHLFVCBKRFFN_R_E_FVGDRLFJCFVGCQCVCMLFV_NAF_FN_DLQE_FV_QFPNFYDATFDAFH_FRLFOCJKHLFKFRADKE_FMFJAM_RAH_BRKFTHAFN_DHCPWKEKFRCF_HKFHAMKDFMKJF_FVGCRCNAFYDATFPNFMAJAE_FMDABOHCFTPDAEFTHAFTPYFNAHKBOFVGKD_O_RFNAFDAFTHAFHKQJLFHAJCRQHAFN_FJMAFEAR_FV_JEFMF_SGKBAFMLM_JAE_FYDATFFNFGCT_HRKQLFHAWCFVGCBFFR_QFNAFTHAFV_QFPNFHKQJLFHAHPRKEKFMJ_RFDAFTLDEAE_FYDATFNAFRKTFT_TFMDABQCFCJWLRCF_FMKJKDFRAOJLFYDATFDAFJCFRCOCFME_DRHAFYAHFHPRKE_FHPRKE_FYDATFDAFMAGKRFNAFYDATFTPFNPDR_E_FHABCFJEPNH_F_FNAFTPFKFVCFDTGRKFTPDKTFDR_RFMFDECMAF_NFDAFTKFH_QCHABFNFRCOCFMDAOCFNJ_ECFNAFYDATFOCFTKECM_E_FRAJFMKJKTFNAFYDATFRCFMDABOHCFYAHFOG_E_FD_T_FVGAJFDAWCPF_FNAFYDATFHABKRKE_FHKBFMKBFHKBFMKBFHANFOECPVAFNQE_T_HKFMKJFYAFRCFJKMHAFNAFRKFTPDKTFCFDCWAFGKQ_RFR_QCMAFMABKFMKDFRCFYAFR_QFVGK\n",
      "Key: _WBJASIOKYQETHCVZGDRPMUXLNF\n"
     ]
    }
   ],
   "source": [
    "from main_crypt import encrypt_text, alphabet\n",
    "import random\n",
    "\n",
    "# Ukázkový plaintext\n",
    "plaintext = \"AKOVY_ZLY_PROFESOR_SLAVNY_UCENEC_VY_UCENCI_JSTE_VSICHNI_DIVNI_DAL_MI_UKOL_A_DIVAL_SE_NA_HODINKY_ZA_HODINU_TO_MUSELO_BYT_VYPOCITANO_A_KDYZ_UZ_MNE_ZBYVALO_JENOM_PET_MINUT_CTYRI_MINUTY_TRI_MINUTY_A_JA_NEMELA_JESTE_NIC_TU_MI_ZABOUCHALO_SRDCE_A_JA_MELA_TAKOVY_STRASNY_POCIT__ZATALA_PRSTY_DO_PROKOPOVY_PAZE_A_ZASYKLA_PAK_UZ_JSEM_SE_NA_TY_HODINY_I_TESILA_V_DEVATENACTI_MNE_ZASNOUBILI_TO_ANI_NEVIS_VID_A_PROTOZE_JSEM_UZ_VEDELA_VSECHNO_MUSEL_MNE_MUJ_ZENICH_PRISAHAT_ZE_SE_MNE_NIKDY_NEDOTKNE_ZA_DVE_LETA_PADL_V_AFRICE_VYVADELA_JSEM__Z_ROMANTIKY_NEBO_PROC__TAK_ZE_MNE_PAK_UZ_NIKDY_NENUTILI_VDAT_SE_MYSLELA_JSEM_ZE_TIM_MAM_VSECKO_ODBYTO_A_VIDIS_TEHDY_JSEM_SE_DO_TOHO_VLASTNE_JEN_NUTILA_NUTILA_JSEM_SE_VERIT_ZE_JSEM_MU_ZUSTALA_NECO_DLUZNA_A_ZE_MU_I_PO_SMRTI_MUSIM_STAT_V_SLOVE_AZ_SE_MI_NAKONEC_Z_TOHO_VSEHO_ZDALO_ZE_JSEM_HO_MILOVALA_TED_VIDIM_ZE_JSEM_TO_VSECHNO_JEN_HRALA_SAMA_PRED_SEBOU_A_ZE_JSEM_NECITILA_NIC_VIC_NIC_VIC_NEZ_HLOUPE_ZKLAMANI_VID_JE_TO_DIVNE_ZE_TI_MUSIM_O_SOBE_RIKAT_TAKOVE_VECI_VIS_TO_JE_TAK_PRI\"\n",
    "# Generování náhodného klíče (permutace abecedy)\n",
    "key = alphabet.copy()\n",
    "random.shuffle(key)\n",
    "\n",
    "# Šifrování\n",
    "ciphertext = encrypt_text(plaintext, key)\n",
    "print(\"Plaintext:\", plaintext)\n",
    "print(\"Ciphertext:\", ciphertext)\n",
    "print(\"Key:\", \"\".join(key))"
   ]
  },
  {
   "cell_type": "markdown",
   "id": "ae5d106d",
   "metadata": {},
   "source": [
    "## 2. Vytvoření bigramové atrigramové matice + seznamu slov z Krakatitu"
   ]
  },
  {
   "cell_type": "code",
   "execution_count": 39,
   "id": "464a8258",
   "metadata": {},
   "outputs": [
    {
     "name": "stdout",
     "output_type": "stream",
     "text": [
      "Nejčastější bigramy:\n",
      "E_: 14888\n",
      "A_: 11837\n",
      "_P: 8935\n",
      "_S: 8445\n",
      "I_: 7812\n",
      "O_: 7702\n",
      "_N: 7238\n",
      "NE: 7039\n",
      "_T: 6090\n",
      "L_: 5782\n",
      "\n",
      "Nejčastější trigramy:\n",
      "_PR: 4044\n",
      "_A_: 3615\n",
      "_NE: 3567\n",
      "_SE: 3355\n",
      "SE_: 3048\n",
      "_PO: 2730\n",
      "NE_: 2451\n",
      "NA_: 2438\n",
      "_NA: 2433\n",
      "_JE: 2167\n",
      "\n",
      "Náhodná slova z referenčního slovníku:\n",
      "VJEZD, HORLIVY, STUJ, POHADKY, ZEMREL, POSLOUCHA, VYROBIT, TASTR, BOHATY, ZIVOT\n"
     ]
    }
   ],
   "source": [
    "from collections import defaultdict\n",
    "import math\n",
    "import random\n",
    "\n",
    "# Načtení textu\n",
    "with open(\"krakatit.txt\", \"r\", encoding=\"utf-8\") as file:\n",
    "    ref_text = file.read()\n",
    "    ref_bigrams = defaultdict(int)\n",
    "    ref_trigrams = defaultdict(int)\n",
    "    ref_words = defaultdict(set)\n",
    "\n",
    "    # Vytvoření bigramové matice\n",
    "    for i in range(len(ref_text) - 1):\n",
    "        ref_bigrams[ref_text[i] + ref_text[i + 1]] += 1\n",
    "\n",
    "    # Vytvoření trigramové matice\n",
    "    for i in range(len(ref_text) - 2):\n",
    "        ref_trigrams[ref_text[i] + ref_text[i + 1] + ref_text[i + 2]] += 1\n",
    "\n",
    "    # Vytvoření seznamu slov pro kontrolu validity\n",
    "    for word in ref_text.split(\"_\"):\n",
    "        if len(word) > 2:\n",
    "            ref_words[word[:2]].add(word)\n",
    "\n",
    "# Ukázka 10 nejčastějších bigramů\n",
    "top_bigrams = sorted(ref_bigrams.items(), key=lambda x: -x[1])[:10]\n",
    "print(\"Nejčastější bigramy:\")\n",
    "for bg, count in top_bigrams:\n",
    "    print(f\"{bg}: {count}\")\n",
    "\n",
    "# Ukázka 10 nejčastějších trigramů\n",
    "top_trigrams = sorted(ref_trigrams.items(), key=lambda x: -x[1])[:10]\n",
    "print(\"\\nNejčastější trigramy:\")\n",
    "for tg, count in top_trigrams:\n",
    "    print(f\"{tg}: {count}\")\n",
    "\n",
    "# Ukázka 10 náhodných slov ze seznamu ref_words\n",
    "some_words = random.sample(\n",
    "    [word for word_set in ref_words.values() for word in word_set], 10\n",
    ")\n",
    "print(\"\\nNáhodná slova z referenčního slovníku:\")\n",
    "print(\", \".join(some_words))\n",
    "\n",
    "# bigramy, trigramy a seznam slov jsou tři metody, které používáme pro stanovení správnosti hledaného klíče šifry."
   ]
  },
  {
   "cell_type": "markdown",
   "id": "8e449bde",
   "metadata": {},
   "source": [
    "## 3. Kryptoanalýza: Prolomení šifry"
   ]
  },
  {
   "cell_type": "code",
   "execution_count": null,
   "id": "c54b16db",
   "metadata": {},
   "outputs": [
    {
     "name": "stdout",
     "output_type": "stream",
     "text": [
      "Iter: 1000\n",
      "Plausibility: 9.40\n",
      "----------------\n",
      "Iter: 2000\n",
      "Plausibility: 46.49\n",
      "----------------\n",
      "Iter: 3000\n",
      "Plausibility: 40.41\n",
      "----------------\n",
      "Iter: 4000\n",
      "Plausibility: 49.53\n",
      "----------------\n",
      "Iter: 5000\n",
      "Plausibility: 59.72\n",
      "----------------\n",
      "Iter: 6000\n",
      "Plausibility: 59.82\n",
      "----------------\n",
      "Iter: 7000\n",
      "Plausibility: 58.39\n",
      "----------------\n",
      "Iter: 8000\n",
      "Plausibility: 49.31\n",
      "----------------\n",
      "Iter: 9000\n",
      "Plausibility: 59.57\n",
      "----------------\n",
      "Iter: 10000\n",
      "Plausibility: 9.15\n",
      "----------------\n",
      "LAST PLAUSIBILITY: 9.147\n",
      "HIGHEST PLAUSIBILITY: 62.375\n",
      "\n",
      "🔓 Dešifrovaný text:\n",
      "ONIJY_RCY_BVIFAKIV_KCOJDY_PLADAL_JY_PLADLE_UKTA_JKELSDE_MEJDE_MOC_ZE_PNIC_O_MEJOC_KA_DO_SIMEDNY_RO_SIMEDP_TI_ZPKACI_HYT_JYBILETODI_O_NMYR_PR_ZDA_RHYJOCI_UADIZ_BAT_ZEDPT_LTYVE_ZEDPTY_TVE_ZEDPTY_O_UO_DAZACO_UAKTA_DEL_TP_ZE_ROHIPLSOCI_KVMLA_O_UO_ZACO_TONIJY_KTVOKDY_BILET__ROTOCO_BVKTY_MI_BVINIBIJY_BORA_O_ROKYNCO_BON_PR_UKAZ_KA_DO_TY_SIMEDY_E_TAKECO_J_MAJOTADOLTE_ZDA_ROKDIPHECE_TI_ODE_DAJEK_JEM_O_BVITIRA_UKAZ_PR_JAMACO_JKALSDI_ZPKAC_ZDA_ZPU_RADELS_BVEKOSOT_RA_KA_ZDA_DENMY_DAMITNDA_RO_MJA_CATO_BOMC_J_OFVELA_JYJOMACO_UKAZ__R_VIZODTENY_DAHI_BVIL__TON_RA_ZDA_BON_PR_DENMY_DADPTECE_JMOT_KA_ZYKCACO_UKAZ_RA_TEZ_ZOZ_JKALNI_IMHYTI_O_JEMEK_TASMY_UKAZ_KA_MI_TISI_JCOKTDA_UAD_DPTECO_DPTECO_UKAZ_KA_JAVET_RA_UKAZ_ZP_RPKTOCO_DALI_MCPRDO_O_RA_ZP_E_BI_KZVTE_ZPKEZ_KTOT_J_KCIJA_OR_KA_ZE_DONIDAL_R_TISI_JKASI_RMOCI_RA_UKAZ_SI_ZECIJOCO_TAM_JEMEZ_RA_UKAZ_TI_JKALSDI_UAD_SVOCO_KOZO_BVAM_KAHIP_O_RA_UKAZ_DALETECO_DEL_JEL_DEL_JEL_DAR_SCIPBA_RNCOZODE_JEM_UA_TI_MEJDA_RA_TE_ZPKEZ_I_KIHA_VENOT_TONIJA_JALE_JEK_TI_UA_TON_BVE\n",
      "\n",
      "Pro ověření původní text, než byl zašifrován náhodným klíčem:\n",
      "AKOVY_ZLY_PROFESOR_SLAVNY_UCENEC_VY_UCENCI_JSTE_VSICHNI_DIVNI_DAL_MI_UKOL_A_DIVAL_SE_NA_HODINKY_ZA_HODINU_TO_MUSELO_BYT_VYPOCITANO_A_KDYZ_UZ_MNE_ZBYVALO_JENOM_PET_MINUT_CTYRI_MINUTY_TRI_MINUTY_A_JA_NEMELA_JESTE_NIC_TU_MI_ZABOUCHALO_SRDCE_A_JA_MELA_TAKOVY_STRASNY_POCIT__ZATALA_PRSTY_DO_PROKOPOVY_PAZE_A_ZASYKLA_PAK_UZ_JSEM_SE_NA_TY_HODINY_I_TESILA_V_DEVATENACTI_MNE_ZASNOUBILI_TO_ANI_NEVIS_VID_A_PROTOZE_JSEM_UZ_VEDELA_VSECHNO_MUSEL_MNE_MUJ_ZENICH_PRISAHAT_ZE_SE_MNE_NIKDY_NEDOTKNE_ZA_DVE_LETA_PADL_V_AFRICE_VYVADELA_JSEM__Z_ROMANTIKY_NEBO_PROC__TAK_ZE_MNE_PAK_UZ_NIKDY_NENUTILI_VDAT_SE_MYSLELA_JSEM_ZE_TIM_MAM_VSECKO_ODBYTO_A_VIDIS_TEHDY_JSEM_SE_DO_TOHO_VLASTNE_JEN_NUTILA_NUTILA_JSEM_SE_VERIT_ZE_JSEM_MU_ZUSTALA_NECO_DLUZNA_A_ZE_MU_I_PO_SMRTI_MUSIM_STAT_V_SLOVE_AZ_SE_MI_NAKONEC_Z_TOHO_VSEHO_ZDALO_ZE_JSEM_HO_MILOVALA_TED_VIDIM_ZE_JSEM_TO_VSECHNO_JEN_HRALA_SAMA_PRED_SEBOU_A_ZE_JSEM_NECITILA_NIC_VIC_NIC_VIC_NEZ_HLOUPE_ZKLAMANI_VID_JE_TO_DIVNE_ZE_TI_MUSIM_O_SOBE_RIKAT_TAKOVE_VECI_VIS_TO_JE_TAK_PRI\n",
      "\n",
      "🔓 Nejlepší nalezený klíč k dešifrování:\n",
      "AVEHKSIWCMDBJQ_PXNORYGUZLTF\n",
      "\n",
      "Pro ověření původní klíč, jimž byl text zašifrován:\n",
      "_WBJASIOKYQETHCVZGDRPMUXLNF\n",
      "\n",
      "\n",
      "Nejlepší nalezený klíč se tedy od správného klíče liší o 21 znaků.\n"
     ]
    }
   ],
   "source": [
    "from main_crypt import prolom_substitute\n",
    "\n",
    "# zašifrovaný text, viz bod č. 1 výše\n",
    "cipher = ciphertext \n",
    "\n",
    "# Prolomení šifry\n",
    "result = prolom_substitute(cipher, 20000, word_val=\"on\") #word_val nastavit na \"on\" či \"off\" podle toho, zda chceme při prolamování šifry využít referenčního slovníku\n",
    "\n",
    "# Výpis výsledků\n",
    "print(\"\\n🔓 Dešifrovaný text:\")\n",
    "print(result[0])\n",
    "print(\"\\nPro ověření původní text, než byl zašifrován náhodným klíčem:\")\n",
    "print(plaintext)\n",
    "print(\"\\n🔓 Nejlepší nalezený klíč k dešifrování:\")\n",
    "print(\"\".join(result[1]))\n",
    "print(\"\\nPro ověření původní klíč, jimž byl text zašifrován:\")\n",
    "print(\"\".join(key))\n",
    "print(\"\\n\")\n",
    "# Výpočet rozdílu mezi nejlepšími nalezenými klíči\n",
    "differences = sum(1 for a, b in zip(result[1], key) if a != b)\n",
    "print(\"Nejlepší nalezený klíč se tedy od správného klíče liší o \" + str(differences) + \" znaků.\")\n",
    "\n",
    "\n"
   ]
  },
  {
   "cell_type": "markdown",
   "id": "7ca89bd1",
   "metadata": {},
   "source": [
    "## 4. Závěr a zhodnocení"
   ]
  },
  {
   "cell_type": "markdown",
   "id": "7ff26499",
   "metadata": {},
   "source": [
    "- V notebooku jsme ukázali proces šifrování a dešifrování substituční šifry.\n",
    "- Z knihy Krakatit jsme získali referenční bigramovou matici.\n",
    "- Pomocí algoritmu Metropolis-Hastings jsme úspěšně prolomili šifru a ověřili kvalitu dešifrovaného textu.\n",
    "- Výsledek je doplněn skóre pravděpodobnosti češtiny a procentem rozpoznaných slov."
   ]
  }
 ],
 "metadata": {
  "kernelspec": {
   "display_name": "base",
   "language": "python",
   "name": "python3"
  },
  "language_info": {
   "codemirror_mode": {
    "name": "ipython",
    "version": 3
   },
   "file_extension": ".py",
   "mimetype": "text/x-python",
   "name": "python",
   "nbconvert_exporter": "python",
   "pygments_lexer": "ipython3",
   "version": "3.12.7"
  }
 },
 "nbformat": 4,
 "nbformat_minor": 5
}
